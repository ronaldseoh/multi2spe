{
 "cells": [
  {
   "cell_type": "code",
   "execution_count": 1,
   "id": "d524b501",
   "metadata": {},
   "outputs": [
    {
     "name": "stderr",
     "output_type": "stream",
     "text": [
      "Intel(R) Extension for Scikit-learn* enabled (https://github.com/intel/scikit-learn-intelex)\n"
     ]
    }
   ],
   "source": [
    "import ujson as json\n",
    "import numpy as np\n",
    "import pandas as pd\n",
    "from bertopic import BERTopic\n",
    "from umap import UMAP\n",
    "\n",
    "from spacy.lang.en import English\n",
    "\n",
    "import tqdm"
   ]
  },
  {
   "cell_type": "code",
   "execution_count": 2,
   "id": "036a9f23",
   "metadata": {},
   "outputs": [],
   "source": [
    "# MAG metadata\n",
    "with open(\"../scidocs/data/paper_metadata_mag_mesh.json\", \"r\") as mag_metadata_file:\n",
    "    mag_metadata = json.load(mag_metadata_file)"
   ]
  },
  {
   "cell_type": "code",
   "execution_count": 3,
   "id": "90d25467",
   "metadata": {},
   "outputs": [
    {
     "name": "stdout",
     "output_type": "stream",
     "text": [
      "{'abstract': 'BACKGROUND\\nMany patients with coronary artery disease (CAD) fail to attend cardiac rehabilitation following acute coronary events because they lack motivation to exercise. Theory-based approaches to promote physical activity among non-participants in cardiac rehabilitation are required.\\n\\n\\nDESIGN\\nA randomized trial comparing physical activity levels at baseline, 6, and 12 months between a motivational counselling (MC) intervention group and a usual care (UC) control group.\\n\\n\\nMETHOD\\nOne hundred and forty-one participants hospitalized with acute coronary syndromes not planning to attend cardiac rehabilitation were recruited at a single centre and randomized to either MC (n\\u2009=\\u200969) or UC (n\\u2009=\\u200972). The MC intervention, designed from an ecological perspective, included one face-to-face contact and eight telephone contacts with a trained physiotherapist over a 52-week period. The UC group received written information about starting a walking programme and brief physical activity advice from their attending cardiologist. Physical activity was measured by: 7-day physical activity recall interview; self-report questionnaire; and pedometer at baseline, 6, and 12 months after randomization.\\n\\n\\nRESULTS\\nLatent growth curve analyses, which combined all three outcome measures into a single latent construct, showed that physical activity increased more over time in the MC versus the UC group (µ(add)\\u2009=\\u20090.69, p\\u2009<\\u20090.05).\\n\\n\\nCONCLUSION\\nPatients with CAD not participating in cardiac rehabilitation receiving a theory-based motivational counselling intervention were more physically active at follow-up than those receiving usual care. This intervention may extend the reach of cardiac rehabilitation by increasing physical activity in those disinclined to participate in structured programmes.', 'authors': ['2390812', '32656371', '7516897', '3238810', '3537720', '35108096', '6761024', '39153037', '3929207', '2184603', '40005549'], 'cited_by': ['047858019377d1fd631c93d70a47aebff564a9cd', '6790f505c9f4c3b9d8c74950b7f4ec01be6227f7', '2cb141f79f9751583af5667593f265ee78cf5e91', '441d5dafa84ae4b4f14c0be84fa9cc3e602d6c66', '6be569685df0aaa90350345fe0110fecb987daf0', 'ae6d24dca7a71c46690a354950a2ca329e7bd034', '60d94133efef32c208bc0702a5c017ac059d00d4', '06f275d1ec13c79d83c9ac09ff2010feb8b312ec', 'f8a6ad8d9c391bddfe9ee4639a8848138c468416'], 'paper_id': 'fedb8360a09a326f403dcca14494e1da8a5f3adc', 'references': ['e26d16e99ae117c9b782f403835553eb2bc7468b', 'a9e8fe043eacd1eb663c5eeb11a65ea86d6e0fb7', '9ad32fe453b37b11167bfc55369b43311eede60e', '7e91b6eaeaf44e95fc6cf40ff27d832b6baa943e', '3e0080a48afbc4bd83088582e1a8eb50e650774e', '554228b27eaad9cf18b50cd02c3ee42229a51b3b', 'ff58d8ad2c40fe140e9b601d9a924d2d43076336', '5e61b1ca3b18a330f11553199ed637f3996516c4', 'a9c47d68a2677ab34bd50adb90f0d41b40739157', 'e80bcebed0971f6827df6a56256ee211cbda269c'], 'title': 'Motivational counselling for physical activity in patients with coronary artery disease not participating in cardiac rehabilitation.', 'year': 2012}\n",
      "dict_keys(['abstract', 'authors', 'cited_by', 'paper_id', 'references', 'title', 'year'])\n"
     ]
    }
   ],
   "source": [
    "# What keys are there in each paper?\n",
    "print(mag_metadata['fedb8360a09a326f403dcca14494e1da8a5f3adc'])\n",
    "print(mag_metadata['fedb8360a09a326f403dcca14494e1da8a5f3adc'].keys())"
   ]
  },
  {
   "cell_type": "code",
   "execution_count": 4,
   "id": "4429c620",
   "metadata": {},
   "outputs": [],
   "source": [
    "# Load the paper ids in the MAG validation set\n",
    "mag_val = pd.read_csv(\"../scidocs/data/mag/val.csv\")\n",
    "\n",
    "mag_val_pids = set(mag_val.pid)"
   ]
  },
  {
   "cell_type": "code",
   "execution_count": 5,
   "id": "7f3155c8",
   "metadata": {},
   "outputs": [
    {
     "name": "stdout",
     "output_type": "stream",
     "text": [
      "                                           pid  class_label\n",
      "0     901362650a27cf0a40193eaefdd7eea042a70780            9\n",
      "1     dab652f2a1f1006079a03d373ba5b8ff1af93934           18\n",
      "2     f29fb8fecb090291a635887ff8e13e566d785da7           13\n",
      "3     3353eb3708b2df906d7831dffb93fd25c9f5e84b            9\n",
      "4     d3679b15e371c6d8a2eafb1527aecfb1fdaee16d            9\n",
      "...                                        ...          ...\n",
      "3746  23d11486c371ef3235f74ed9994dd8f68686a47e           11\n",
      "3747  fedb8360a09a326f403dcca14494e1da8a5f3adc           13\n",
      "3748  2f4226076bf759367076094df6f09a59cb23fbc2           11\n",
      "3749  62618110bb09c9629338ebd2059d3465907a7196            0\n",
      "3750  e7511458ab482ba305277caaa4bee18af1b39681            6\n",
      "\n",
      "[3751 rows x 2 columns]\n"
     ]
    }
   ],
   "source": [
    "print(mag_val)"
   ]
  },
  {
   "cell_type": "code",
   "execution_count": 6,
   "id": "52edf65f",
   "metadata": {},
   "outputs": [],
   "source": [
    "spacy_nlp = English()"
   ]
  },
  {
   "cell_type": "code",
   "execution_count": 7,
   "id": "7d159724",
   "metadata": {},
   "outputs": [
    {
     "name": "stderr",
     "output_type": "stream",
     "text": [
      "48473it [00:28, 1705.19it/s]\n"
     ]
    }
   ],
   "source": [
    "# Read the embeddings jsonl created with embed.py\n",
    "facet_selected = 0\n",
    "\n",
    "mag_embeddings = []\n",
    "mag_docs = []\n",
    "mag_labels = []\n",
    "\n",
    "with open(\"save_U_k-3_sum_embs_original-0-9+no_sum-0-1+mean-avg_word-0-05_extra_facet_alternate_layer_8_4-alternate_identity_common_random_cross_entropy_02-09/cls_no_sum.jsonl\", \"r\") as mag_embeddings_file:\n",
    "    for line in tqdm.tqdm(mag_embeddings_file):\n",
    "        paper = json.loads(line)\n",
    "\n",
    "        if paper[\"paper_id\"] in mag_val_pids:\n",
    "            emb = paper[\"embedding\"][facet_selected]\n",
    "            mag_embeddings.append(np.array(emb))\n",
    "\n",
    "            # Filter out some stop words\n",
    "            text = (mag_metadata[paper[\"paper_id\"]].get(\"title\") or \"\") + \" \" + (mag_metadata[paper[\"paper_id\"]].get(\"abstract\") or \"\")\n",
    "            text_filtered = \"\"\n",
    "\n",
    "            spacy_output = spacy_nlp(text)\n",
    "\n",
    "            for j, token in enumerate(spacy_output):\n",
    "                if not (token.is_stop or token.is_punct):\n",
    "                    text_filtered += str(token) + \" \"\n",
    "\n",
    "            mag_docs.append(text_filtered)\n",
    "            \n",
    "            mag_labels.append(mag_val[mag_val.pid == paper[\"paper_id\"]].iloc[0].class_label)\n",
    "\n",
    "mag_embeddings = np.array(mag_embeddings)\n",
    "mag_labels = np.array(mag_labels)"
   ]
  },
  {
   "cell_type": "code",
   "execution_count": 9,
   "id": "f764858b",
   "metadata": {},
   "outputs": [],
   "source": [
    "umap_model = UMAP(n_neighbors=15, n_components=5, min_dist=0.0, metric='cosine', random_state=42)\n",
    "topic_model = BERTopic(umap_model=umap_model)"
   ]
  },
  {
   "cell_type": "code",
   "execution_count": 10,
   "id": "2e092af1",
   "metadata": {},
   "outputs": [
    {
     "name": "stderr",
     "output_type": "stream",
     "text": [
      "OMP: Info #276: omp_set_nested routine deprecated, please use omp_set_max_active_levels instead.\n"
     ]
    }
   ],
   "source": [
    "topics, probs = topic_model.fit_transform(mag_docs, mag_embeddings)"
   ]
  },
  {
   "cell_type": "code",
   "execution_count": null,
   "id": "129f703e",
   "metadata": {},
   "outputs": [],
   "source": [
    "topic_model.visualize_topics()"
   ]
  },
  {
   "cell_type": "code",
   "execution_count": null,
   "id": "7437b4a7",
   "metadata": {},
   "outputs": [],
   "source": [
    "topic_model.visualize_hierarchy()"
   ]
  },
  {
   "cell_type": "code",
   "execution_count": null,
   "id": "90ce172c",
   "metadata": {},
   "outputs": [],
   "source": [
    "topic_model.visualize_barchart()"
   ]
  },
  {
   "cell_type": "code",
   "execution_count": null,
   "id": "9b3ace4e",
   "metadata": {},
   "outputs": [],
   "source": [
    "topic_model.visualize_heatmap()"
   ]
  },
  {
   "cell_type": "code",
   "execution_count": null,
   "id": "9702cfe6",
   "metadata": {},
   "outputs": [],
   "source": [
    "topic_model.visualize_term_rank()"
   ]
  }
 ],
 "metadata": {
  "kernelspec": {
   "display_name": "Python 3 (ipykernel)",
   "language": "python",
   "name": "python3"
  },
  "language_info": {
   "codemirror_mode": {
    "name": "ipython",
    "version": 3
   },
   "file_extension": ".py",
   "mimetype": "text/x-python",
   "name": "python",
   "nbconvert_exporter": "python",
   "pygments_lexer": "ipython3",
   "version": "3.7.11"
  }
 },
 "nbformat": 4,
 "nbformat_minor": 5
}
